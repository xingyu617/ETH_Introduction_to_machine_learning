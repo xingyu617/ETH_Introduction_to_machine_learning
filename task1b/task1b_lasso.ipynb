{
 "cells": [
  {
   "cell_type": "code",
   "execution_count": 10,
   "metadata": {},
   "outputs": [],
   "source": [
    "from sklearn.linear_model import Ridge, ElasticNet\n",
    "from sklearn.metrics import mean_squared_error, make_scorer\n",
    "from sklearn import model_selection\n",
    "import numpy as np \n",
    "import pandas as pd\n",
    "from sklearn.linear_model import LinearRegression\n",
    "from sklearn.linear_model import Lasso"
   ]
  },
  {
   "cell_type": "code",
   "execution_count": 2,
   "metadata": {},
   "outputs": [],
   "source": [
    "train_data = pd.read_csv('./train.csv',sep=',',header=None)\n",
    "y = train_data.values[1:,1].astype(float)\n",
    "X = train_data.values[1:,2:].astype(float)"
   ]
  },
  {
   "cell_type": "code",
   "execution_count": 3,
   "metadata": {},
   "outputs": [],
   "source": [
    "X_1_5 = X\n",
    "X_6_10 = np.power(X, 2)\n",
    "X_11_15 = np.exp(X)\n",
    "X_16_20 = np.cos(X)\n",
    "X_21 = np.ones(X.shape[0])\n",
    "X_21 = X_21.reshape((X_21.shape[0],1))\n",
    "X_train = np.concatenate((X_1_5,X_6_10,X_11_15,X_16_20,X_21), axis=1)"
   ]
  },
  {
   "cell_type": "code",
   "execution_count": 11,
   "metadata": {},
   "outputs": [],
   "source": [
    "lasso = Lasso(max_iter = 10000, normalize = True)"
   ]
  },
  {
   "cell_type": "code",
   "execution_count": 12,
   "metadata": {},
   "outputs": [],
   "source": [
    "cv = model_selection.RepeatedKFold(n_splits=10, n_repeats=3, random_state=1)\n",
    "grid = dict()\n",
    "grid['alpha'] = np.arange(1e-3, 10.0, 0.001)\n",
    "search_ridge = model_selection.GridSearchCV(lasso, grid, scoring='neg_root_mean_squared_error', cv=cv, n_jobs=-1)\n",
    "results = search_ridge.fit(X_train, y)"
   ]
  },
  {
   "cell_type": "code",
   "execution_count": 13,
   "metadata": {},
   "outputs": [
    {
     "data": {
      "text/plain": [
       "0.003"
      ]
     },
     "execution_count": 13,
     "metadata": {},
     "output_type": "execute_result"
    }
   ],
   "source": [
    "search_ridge.best_params_['alpha']"
   ]
  },
  {
   "cell_type": "code",
   "execution_count": 15,
   "metadata": {},
   "outputs": [],
   "source": [
    "final_regr_lasso = Ridge(alpha=search_ridge.best_params_['alpha'] \n",
    "                               ,fit_intercept=False)\n",
    "final_regr_lasso.fit(X_train, y)\n",
    "weights_lasso = final_regr_lasso.coef_"
   ]
  },
  {
   "cell_type": "code",
   "execution_count": 18,
   "metadata": {},
   "outputs": [
    {
     "name": "stdout",
     "output_type": "stream",
     "text": [
      "[ 6.62159306 -5.21058439 -1.36003242  7.06248808 -0.52948709 -0.2185518\n",
      "  2.13810967  3.76680927  2.71728928  7.5252329  -6.94040494  3.68717124\n",
      " -0.87612654 -7.12829856  2.42435479  2.32225476  0.15700074  0.05849815\n",
      " -0.40078346 -1.42872466  1.6447392 ]\n"
     ]
    }
   ],
   "source": [
    "print(weights_lasso)"
   ]
  },
  {
   "cell_type": "code",
   "execution_count": 16,
   "metadata": {},
   "outputs": [],
   "source": [
    "output_task1b = open(\"output_task1b.csv\", \"w\")\n",
    "for i in range(weights_linear.shape[0]):\n",
    "    output_task1b.write( '{}\\n'.format(weights_linear[i]))\n",
    "output_task1b.close()"
   ]
  },
  {
   "cell_type": "code",
   "execution_count": null,
   "metadata": {},
   "outputs": [],
   "source": []
  }
 ],
 "metadata": {
  "kernelspec": {
   "display_name": "Python 3",
   "language": "python",
   "name": "python3"
  },
  "language_info": {
   "codemirror_mode": {
    "name": "ipython",
    "version": 3
   },
   "file_extension": ".py",
   "mimetype": "text/x-python",
   "name": "python",
   "nbconvert_exporter": "python",
   "pygments_lexer": "ipython3",
   "version": "3.8.3"
  }
 },
 "nbformat": 4,
 "nbformat_minor": 4
}
