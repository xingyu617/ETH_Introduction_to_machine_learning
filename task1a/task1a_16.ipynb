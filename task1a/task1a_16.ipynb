{
 "cells": [
  {
   "cell_type": "code",
   "execution_count": 18,
   "metadata": {},
   "outputs": [],
   "source": [
    "from sklearn.model_selection import KFold\n",
    "from sklearn.linear_model import Ridge\n",
    "from sklearn.metrics import mean_squared_error\n",
    "import numpy as np \n",
    "import pandas as pd"
   ]
  },
  {
   "cell_type": "code",
   "execution_count": 19,
   "metadata": {},
   "outputs": [],
   "source": [
    "train_data = pd.read_csv('./train.csv',sep=',',header=None)\n",
    "y = train_data.values[1:,0]\n",
    "X = train_data.values[1:,1:]"
   ]
  },
  {
   "cell_type": "code",
   "execution_count": 20,
   "metadata": {},
   "outputs": [],
   "source": [
    "lamda = np.array([0.1, 1, 10, 100, 200])\n",
    "kfold = KFold(n_splits=10, shuffle=True)\n",
    "output = open(\"output.csv\", \"w\")"
   ]
  },
  {
   "cell_type": "code",
   "execution_count": 21,
   "metadata": {},
   "outputs": [],
   "source": [
    "for i in lamda:\n",
    "    rmse_collection = []\n",
    "    for train_index, test_index in kfold.split(X):\n",
    "        X_train, X_test = X[train_index], X[test_index]\n",
    "        Y_train, Y_test = y[train_index], y[test_index]\n",
    "        ridge_regression = Ridge(alpha=i)\n",
    "        ridge_regression.fit(X_train,Y_train)\n",
    "        Y_pred = ridge_regression.predict(X_test)\n",
    "        RMSE = np.sqrt(mean_squared_error(Y_test,Y_pred))\n",
    "        rmse_collection.append(RMSE)\n",
    "    score = np.sum(rmse_collection)/len(rmse_collection)\n",
    "    output.write( '{}\\n'.format(score))\n",
    "output.close()"
   ]
  },
  {
   "cell_type": "code",
   "execution_count": null,
   "metadata": {},
   "outputs": [],
   "source": [
    "5.5018094450578605\n",
    "5.499838741278099\n",
    "5.483631486072289\n",
    "5.636642135414036\n",
    "5.721233719861127"
   ]
  },
  {
   "cell_type": "code",
   "execution_count": null,
   "metadata": {},
   "outputs": [],
   "source": []
  }
 ],
 "metadata": {
  "kernelspec": {
   "display_name": "Python 3",
   "language": "python",
   "name": "python3"
  },
  "language_info": {
   "codemirror_mode": {
    "name": "ipython",
    "version": 3
   },
   "file_extension": ".py",
   "mimetype": "text/x-python",
   "name": "python",
   "nbconvert_exporter": "python",
   "pygments_lexer": "ipython3",
   "version": "3.8.3"
  }
 },
 "nbformat": 4,
 "nbformat_minor": 5
}
